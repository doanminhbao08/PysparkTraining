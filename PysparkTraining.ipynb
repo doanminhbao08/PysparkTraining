{
 "cells": [
  {
   "cell_type": "code",
   "execution_count": 3,
   "metadata": {},
   "outputs": [],
   "source": [
    "import os\n",
    "import sys\n",
    "import pyspark \n",
    "\n",
    "os.environ['PYSPARK_PYTHON'] = sys.executable\n",
    "os.environ['PYSPARK_DRIVER_PYTHON'] = sys.executable"
   ]
  },
  {
   "cell_type": "markdown",
   "metadata": {},
   "source": [
    "# Basic training\n"
   ]
  },
  {
   "cell_type": "code",
   "execution_count": 7,
   "metadata": {},
   "outputs": [],
   "source": [
    "from pyspark import SparkContext # type: ignore"
   ]
  },
  {
   "cell_type": "code",
   "execution_count": 8,
   "metadata": {},
   "outputs": [],
   "source": [
    "sc = SparkContext()"
   ]
  },
  {
   "cell_type": "code",
   "execution_count": 4,
   "metadata": {},
   "outputs": [],
   "source": [
    "num = list(range(0,10000))"
   ]
  },
  {
   "cell_type": "code",
   "execution_count": 5,
   "metadata": {},
   "outputs": [],
   "source": [
    "rdd_num = sc.parallelize(num)"
   ]
  },
  {
   "cell_type": "code",
   "execution_count": 6,
   "metadata": {},
   "outputs": [
    {
     "data": {
      "text/plain": [
       "[0, 1, 2, 3, 4, 5, 6, 7, 8, 9]"
      ]
     },
     "execution_count": 6,
     "metadata": {},
     "output_type": "execute_result"
    }
   ],
   "source": [
    "rdd_num.take(10)"
   ]
  },
  {
   "cell_type": "code",
   "execution_count": 7,
   "metadata": {},
   "outputs": [
    {
     "data": {
      "text/plain": [
       "49995000"
      ]
     },
     "execution_count": 7,
     "metadata": {},
     "output_type": "execute_result"
    }
   ],
   "source": [
    "sum(num)"
   ]
  },
  {
   "cell_type": "code",
   "execution_count": 8,
   "metadata": {},
   "outputs": [
    {
     "data": {
      "text/plain": [
       "49995000"
      ]
     },
     "execution_count": 8,
     "metadata": {},
     "output_type": "execute_result"
    }
   ],
   "source": [
    "rdd_num.reduce(lambda a,b: a+b)"
   ]
  },
  {
   "cell_type": "code",
   "execution_count": 9,
   "metadata": {},
   "outputs": [
    {
     "data": {
      "text/plain": [
       "0"
      ]
     },
     "execution_count": 9,
     "metadata": {},
     "output_type": "execute_result"
    }
   ],
   "source": [
    "rdd_num.reduce(min)"
   ]
  },
  {
   "cell_type": "code",
   "execution_count": 10,
   "metadata": {},
   "outputs": [],
   "source": [
    "filtered_rdd_num =  rdd_num.filter(lambda x : x%2 == 0)"
   ]
  },
  {
   "cell_type": "code",
   "execution_count": 11,
   "metadata": {},
   "outputs": [
    {
     "data": {
      "text/plain": [
       "[0, 2, 4, 6, 8, 10, 12, 14, 16, 18]"
      ]
     },
     "execution_count": 11,
     "metadata": {},
     "output_type": "execute_result"
    }
   ],
   "source": [
    "filtered_rdd_num.take(10)"
   ]
  },
  {
   "cell_type": "markdown",
   "metadata": {},
   "source": [
    "# SQL in Pyspark"
   ]
  },
  {
   "cell_type": "markdown",
   "metadata": {},
   "source": [
    "## Read JSON"
   ]
  },
  {
   "cell_type": "markdown",
   "metadata": {},
   "source": [
    "Hàm làm sạch"
   ]
  },
  {
   "cell_type": "code",
   "execution_count": 4,
   "metadata": {},
   "outputs": [],
   "source": [
    "def clean_json_file(input_path, output_path):\n",
    "    with open(input_path, 'r') as infile, open(output_path, 'w') as outfile:\n",
    "        for line in infile:\n",
    "            # Chỉ ghi các dòng không trống (dòng chứa dữ liệu)\n",
    "            if line.strip():  # Loại bỏ dòng trống\n",
    "                outfile.write(line)"
   ]
  },
  {
   "cell_type": "code",
   "execution_count": 5,
   "metadata": {},
   "outputs": [],
   "source": [
    "from pyspark.sql import SQLContext"
   ]
  },
  {
   "cell_type": "code",
   "execution_count": 9,
   "metadata": {},
   "outputs": [
    {
     "name": "stderr",
     "output_type": "stream",
     "text": [
      "c:\\Users\\Bao Kun\\AppData\\Local\\Programs\\Python\\Python310\\lib\\site-packages\\pyspark\\sql\\context.py:113: FutureWarning: Deprecated in 3.0.0. Use SparkSession.builder.getOrCreate() instead.\n",
      "  warnings.warn(\n"
     ]
    }
   ],
   "source": [
    "sqlContext = SQLContext(sc)"
   ]
  },
  {
   "cell_type": "code",
   "execution_count": 10,
   "metadata": {},
   "outputs": [
    {
     "name": "stdout",
     "output_type": "stream",
     "text": [
      "+--------------------+-----------------+--------------+-----------+----------+-------------+--------------------+------------+--------------+--------+--------------------+--------------------+\n",
      "|          created_at|            email|email_verified|family_name|given_name|      last_ip|          last_login|logins_count|          name|nickname|          updated_at|             user_id|\n",
      "+--------------------+-----------------+--------------+-----------+----------+-------------+--------------------+------------+--------------+--------+--------------------+--------------------+\n",
      "|2016-11-28T14:10:...|    test@test.com|          true|       Test|     Hello|94.121.163.63|2016-12-02T01:17:...|          15| test@test.com|    test|2016-12-02T01:17:...|583c3ac3f38e84297...|\n",
      "|2016-11-28T16:00:...|   test1@test.com|          true|      Test1|    Hello1|94.121.168.53|2016-11-28T16:00:...|           1|test1@test.com|   test1|2016-11-28T16:00:...|583c5484cb79a5fe5...|\n",
      "|2016-11-28T16:12:...|      aaa@aaa.com|          true|      Dough|      John|94.121.168.53|2016-11-28T16:12:...|           2|   aaa@aaa.com|     aaa|2016-11-28T16:12:...|583c57672c7686377...|\n",
      "|2016-12-01T23:59:...|          a@a.com|          true|      Dough|      Jane|94.121.163.63|2016-12-01T23:59:...|           3|       a@a.com|       a|2016-12-01T23:59:...|5840b954da0529cd2...|\n",
      "|2016-12-09T12:01:...|test9999@test.com|         false|       User|     Dummy|         NULL|                NULL|        NULL|          NULL|    NULL|2016-12-09T12:01:...|584a9d13e808bcf75...|\n",
      "+--------------------+-----------------+--------------+-----------+----------+-------------+--------------------+------------+--------------+--------+--------------------+--------------------+\n",
      "\n",
      "root\n",
      " |-- created_at: string (nullable = true)\n",
      " |-- email: string (nullable = true)\n",
      " |-- email_verified: boolean (nullable = true)\n",
      " |-- family_name: string (nullable = true)\n",
      " |-- given_name: string (nullable = true)\n",
      " |-- last_ip: string (nullable = true)\n",
      " |-- last_login: string (nullable = true)\n",
      " |-- logins_count: long (nullable = true)\n",
      " |-- name: string (nullable = true)\n",
      " |-- nickname: string (nullable = true)\n",
      " |-- updated_at: string (nullable = true)\n",
      " |-- user_id: string (nullable = true)\n",
      "\n"
     ]
    }
   ],
   "source": [
    "clean_json_file(\"C:\\\\Users\\\\Bao Kun\\\\Desktop\\\\PysparkTraining\\\\sample_users_with_id.json\", \"cleaned_input.json\") #sample_users_with_id\n",
    "\n",
    "# Đọc tệp JSON vào DataFrame\n",
    "#df = spark.read.json(\"\")\n",
    "df = sqlContext.read.option(\"multiline\", \"true\").json(\"cleaned_input.json\")\n",
    "df.show()\n",
    "\n",
    "# Hiển thị các dòng trong DataFrame\n",
    "\n",
    "\n",
    "# Kiểm tra kiểu dữ liệu của các cột\n",
    "df.printSchema()\n"
   ]
  },
  {
   "cell_type": "code",
   "execution_count": 16,
   "metadata": {},
   "outputs": [
    {
     "data": {
      "text/plain": [
       "5"
      ]
     },
     "execution_count": 16,
     "metadata": {},
     "output_type": "execute_result"
    }
   ],
   "source": [
    "df.count()"
   ]
  },
  {
   "cell_type": "code",
   "execution_count": 17,
   "metadata": {},
   "outputs": [
    {
     "name": "stdout",
     "output_type": "stream",
     "text": [
      "+--------------------+\n",
      "|          created_at|\n",
      "+--------------------+\n",
      "|2016-11-28T14:10:...|\n",
      "|2016-11-28T16:00:...|\n",
      "|2016-11-28T16:12:...|\n",
      "|2016-12-01T23:59:...|\n",
      "|2016-12-09T12:01:...|\n",
      "+--------------------+\n",
      "\n"
     ]
    }
   ],
   "source": [
    "df.select(df.created_at).show()"
   ]
  },
  {
   "cell_type": "code",
   "execution_count": 18,
   "metadata": {},
   "outputs": [
    {
     "data": {
      "text/plain": [
       "[Row(created_at='2016-11-28T14:10:11.338Z', email='test@test.com', email_verified=True, family_name='Test', given_name='Hello', last_ip='94.121.163.63', last_login='2016-12-02T01:17:29.310Z', logins_count=15, name='test@test.com', nickname='test', updated_at='2016-12-02T01:17:29.310Z', user_id='583c3ac3f38e84297c002546'),\n",
       " Row(created_at='2016-11-28T16:00:04.209Z', email='test1@test.com', email_verified=True, family_name='Test1', given_name='Hello1', last_ip='94.121.168.53', last_login='2016-11-28T16:00:47.203Z', logins_count=1, name='test1@test.com', nickname='test1', updated_at='2016-11-28T16:00:47.203Z', user_id='583c5484cb79a5fe593425a9'),\n",
       " Row(created_at='2016-11-28T16:12:23.777Z', email='aaa@aaa.com', email_verified=True, family_name='Dough', given_name='John', last_ip='94.121.168.53', last_login='2016-11-28T16:12:52.353Z', logins_count=2, name='aaa@aaa.com', nickname='aaa', updated_at='2016-11-28T16:12:52.353Z', user_id='583c57672c7686377d2f66c9'),\n",
       " Row(created_at='2016-12-01T23:59:16.473Z', email='a@a.com', email_verified=True, family_name='Dough', given_name='Jane', last_ip='94.121.163.63', last_login='2016-12-01T23:59:53.474Z', logins_count=3, name='a@a.com', nickname='a', updated_at='2016-12-01T23:59:53.474Z', user_id='5840b954da0529cd293d76fe'),\n",
       " Row(created_at='2016-12-09T12:01:23.787Z', email='test9999@test.com', email_verified=False, family_name='User', given_name='Dummy', last_ip=None, last_login=None, logins_count=None, name=None, nickname=None, updated_at='2016-12-09T12:01:23.787Z', user_id='584a9d13e808bcf75f05f580')]"
      ]
     },
     "execution_count": 18,
     "metadata": {},
     "output_type": "execute_result"
    }
   ],
   "source": [
    "df.take(10)"
   ]
  },
  {
   "cell_type": "markdown",
   "metadata": {},
   "source": [
    "## Code SQL trong python"
   ]
  },
  {
   "cell_type": "code",
   "execution_count": null,
   "metadata": {},
   "outputs": [],
   "source": [
    "df.createOrReplaceTempView(\"sql_df\") # Đăng ký để sử dụng viết code SQL"
   ]
  },
  {
   "cell_type": "code",
   "execution_count": 19,
   "metadata": {},
   "outputs": [
    {
     "name": "stdout",
     "output_type": "stream",
     "text": [
      "+--------------------+-----------------+--------------+-----------+----------+-------------+--------------------+------------+--------------+--------+--------------------+--------------------+\n",
      "|          created_at|            email|email_verified|family_name|given_name|      last_ip|          last_login|logins_count|          name|nickname|          updated_at|             user_id|\n",
      "+--------------------+-----------------+--------------+-----------+----------+-------------+--------------------+------------+--------------+--------+--------------------+--------------------+\n",
      "|2016-11-28T14:10:...|    test@test.com|          true|       Test|     Hello|94.121.163.63|2016-12-02T01:17:...|          15| test@test.com|    test|2016-12-02T01:17:...|583c3ac3f38e84297...|\n",
      "|2016-11-28T16:00:...|   test1@test.com|          true|      Test1|    Hello1|94.121.168.53|2016-11-28T16:00:...|           1|test1@test.com|   test1|2016-11-28T16:00:...|583c5484cb79a5fe5...|\n",
      "|2016-11-28T16:12:...|      aaa@aaa.com|          true|      Dough|      John|94.121.168.53|2016-11-28T16:12:...|           2|   aaa@aaa.com|     aaa|2016-11-28T16:12:...|583c57672c7686377...|\n",
      "|2016-12-01T23:59:...|          a@a.com|          true|      Dough|      Jane|94.121.163.63|2016-12-01T23:59:...|           3|       a@a.com|       a|2016-12-01T23:59:...|5840b954da0529cd2...|\n",
      "|2016-12-09T12:01:...|test9999@test.com|         false|       User|     Dummy|         NULL|                NULL|        NULL|          NULL|    NULL|2016-12-09T12:01:...|584a9d13e808bcf75...|\n",
      "+--------------------+-----------------+--------------+-----------+----------+-------------+--------------------+------------+--------------+--------+--------------------+--------------------+\n",
      "\n"
     ]
    }
   ],
   "source": [
    "sqlContext.sql(\"select * from sql_df\").show(10)"
   ]
  },
  {
   "cell_type": "code",
   "execution_count": 16,
   "metadata": {},
   "outputs": [
    {
     "name": "stdout",
     "output_type": "stream",
     "text": [
      "+-----------------+\n",
      "|            email|\n",
      "+-----------------+\n",
      "|    test@test.com|\n",
      "|   test1@test.com|\n",
      "|      aaa@aaa.com|\n",
      "|          a@a.com|\n",
      "|test9999@test.com|\n",
      "+-----------------+\n",
      "\n"
     ]
    }
   ],
   "source": [
    "sqlContext.sql('select email from sql_df').show(5)"
   ]
  },
  {
   "cell_type": "code",
   "execution_count": 20,
   "metadata": {},
   "outputs": [
    {
     "name": "stdout",
     "output_type": "stream",
     "text": [
      "+-----------------+--------------+\n",
      "|            email|email_verified|\n",
      "+-----------------+--------------+\n",
      "|test9999@test.com|         false|\n",
      "+-----------------+--------------+\n",
      "\n"
     ]
    }
   ],
   "source": [
    "sqlContext.sql(\"select email, email_verified from sql_df where email_verified = 'false' \").show(10)"
   ]
  },
  {
   "cell_type": "code",
   "execution_count": 27,
   "metadata": {},
   "outputs": [],
   "source": [
    "sc.stop()"
   ]
  },
  {
   "cell_type": "markdown",
   "metadata": {},
   "source": [
    "## Read CSV"
   ]
  },
  {
   "cell_type": "code",
   "execution_count": 2,
   "metadata": {},
   "outputs": [],
   "source": [
    "from pyspark.sql import SparkSession\n",
    "\n",
    "# Khởi tạo Spark session\n",
    "spark = SparkSession.builder \\\n",
    "    .appName(\"ReadCSVExample\") \\\n",
    "    .getOrCreate()\n"
   ]
  },
  {
   "cell_type": "code",
   "execution_count": 12,
   "metadata": {},
   "outputs": [
    {
     "name": "stdout",
     "output_type": "stream",
     "text": [
      "+--------------+--------------+----------------+---------+------------------+--------+------------------+---------------+-----------------+-------------+-------------+-------------------+\n",
      "|ProductVariety|MarketingSpend|CustomerFootfall|StoreSize|EmployeeEfficiency|StoreAge|CompetitorDistance|PromotionsCount|EconomicIndicator|StoreLocation|StoreCategory|MonthlySalesRevenue|\n",
      "+--------------+--------------+----------------+---------+------------------+--------+------------------+---------------+-----------------+-------------+-------------+-------------------+\n",
      "|           581|            29|            1723|      186|              84.9|       1|                12|              6|            108.3|  Los Angeles|  Electronics|              284.9|\n",
      "|           382|            31|            1218|      427|              75.8|      18|                11|              6|             97.8|  Los Angeles|  Electronics|             308.21|\n",
      "|           449|            35|            2654|      142|              92.8|      14|                11|              6|            101.1|  Los Angeles|      Grocery|             292.11|\n",
      "|           666|             9|            2591|      159|              66.3|      11|                11|              4|            115.1|   Sacramento|     Clothing|             279.61|\n",
      "|           657|            35|            2151|      275|              89.1|      28|                12|              7|             93.4|    Palo Alto|  Electronics|             359.71|\n",
      "|           182|            43|            1789|      312|              88.8|      13|                 8|              8|             70.4|    Palo Alto|  Electronics|             258.21|\n",
      "|           341|            29|            1868|      400|              65.2|       8|                12|              6|             99.3|San Francisco|  Electronics|              240.3|\n",
      "|           500|            32|             786|      112|              54.6|       3|                12|              6|             96.4|    Palo Alto|     Clothing|             250.28|\n",
      "|           656|            30|            1352|      108|              51.4|      16|                15|              6|             82.5|    Palo Alto|  Electronics|             249.41|\n",
      "|           419|            48|            1949|       90|              93.1|      16|                 5|              8|            110.3|    Palo Alto|  Electronics|             203.93|\n",
      "|           851|            10|            1501|      223|              53.6|      18|                 9|              4|             99.5|  Los Angeles|     Clothing|             393.32|\n",
      "|           458|            26|            1673|      324|              63.5|      28|                 7|              5|            114.6|    Palo Alto|      Grocery|             266.49|\n",
      "|           432|            18|            1901|      286|              50.1|      13|                 7|              5|             76.6|San Francisco|      Grocery|             283.63|\n",
      "|           555|            40|            2528|      333|              68.6|       6|                 8|              7|            101.4|   Sacramento|  Electronics|             303.41|\n",
      "|           587|            37|            1797|      268|              53.7|      28|                10|              7|            109.3|San Francisco|     Clothing|             274.64|\n",
      "|           637|            46|            1345|      112|              86.8|       9|                10|              7|             94.2|  Los Angeles|      Grocery|             263.24|\n",
      "|           510|            17|            1556|      284|              67.5|      12|                 6|              5|            119.0|San Francisco|     Clothing|             297.06|\n",
      "|           586|            41|            2249|      397|              62.8|      28|                 8|              7|             88.5|  Los Angeles|     Clothing|             313.59|\n",
      "|           834|            44|            1403|      340|              68.2|      24|                11|              7|             77.5|  Los Angeles|      Grocery|             405.82|\n",
      "|           353|            16|            1624|      416|              88.2|       9|                10|              5|            102.9|San Francisco|     Clothing|             281.78|\n",
      "+--------------+--------------+----------------+---------+------------------+--------+------------------+---------------+-----------------+-------------+-------------+-------------------+\n",
      "only showing top 20 rows\n",
      "\n"
     ]
    }
   ],
   "source": [
    "\n",
    "# Đọc tệp CSV\n",
    "df = spark.read.csv(\"C:\\\\Users\\\\Bao Kun\\\\Desktop\\\\PysparkTraining\\\\Store_CA.csv\", header=True, inferSchema=True)\n",
    "\n",
    "# Hiển thị dữ liệu\n",
    "df.show(20)"
   ]
  },
  {
   "cell_type": "code",
   "execution_count": 4,
   "metadata": {},
   "outputs": [
    {
     "name": "stdout",
     "output_type": "stream",
     "text": [
      "root\n",
      " |-- ProductVariety: integer (nullable = true)\n",
      " |-- MarketingSpend: integer (nullable = true)\n",
      " |-- CustomerFootfall: integer (nullable = true)\n",
      " |-- StoreSize: integer (nullable = true)\n",
      " |-- EmployeeEfficiency: double (nullable = true)\n",
      " |-- StoreAge: integer (nullable = true)\n",
      " |-- CompetitorDistance: integer (nullable = true)\n",
      " |-- PromotionsCount: integer (nullable = true)\n",
      " |-- EconomicIndicator: double (nullable = true)\n",
      " |-- StoreLocation: string (nullable = true)\n",
      " |-- StoreCategory: string (nullable = true)\n",
      " |-- MonthlySalesRevenue: double (nullable = true)\n",
      "\n"
     ]
    }
   ],
   "source": [
    "df.printSchema()"
   ]
  },
  {
   "cell_type": "code",
   "execution_count": 11,
   "metadata": {},
   "outputs": [
    {
     "name": "stdout",
     "output_type": "stream",
     "text": [
      "+------------------+------------------------+\n",
      "|    avg(StoreSize)|avg(MonthlySalesRevenue)|\n",
      "+------------------+------------------------+\n",
      "|272.99757575757576|       299.2532848484848|\n",
      "+------------------+------------------------+\n",
      "\n"
     ]
    }
   ],
   "source": [
    "df.agg({'StoreSize':'mean','MonthlySalesRevenue':'mean'}).show()"
   ]
  },
  {
   "cell_type": "code",
   "execution_count": 22,
   "metadata": {},
   "outputs": [],
   "source": [
    "groupByStoreCategory_df = df.groupBy('StoreCategory').agg({'StoreSize':'mean','MonthlySalesRevenue':'mean'})"
   ]
  },
  {
   "cell_type": "code",
   "execution_count": 23,
   "metadata": {},
   "outputs": [],
   "source": [
    "groupByStoreCategory_df = groupByStoreCategory_df.orderBy('avg(MonthlySalesRevenue)', ascending=False)"
   ]
  },
  {
   "cell_type": "code",
   "execution_count": 24,
   "metadata": {},
   "outputs": [
    {
     "name": "stdout",
     "output_type": "stream",
     "text": [
      "+-------------+------------------+------------------------+\n",
      "|StoreCategory|    avg(StoreSize)|avg(MonthlySalesRevenue)|\n",
      "+-------------+------------------+------------------------+\n",
      "|      Grocery|274.22487223168656|       301.3255706984667|\n",
      "|     Clothing| 276.3806818181818|       300.8631250000001|\n",
      "|  Electronics| 268.3121495327103|       295.3908037383178|\n",
      "+-------------+------------------+------------------------+\n",
      "\n"
     ]
    }
   ],
   "source": [
    "groupByStoreCategory_df.show()"
   ]
  },
  {
   "cell_type": "code",
   "execution_count": 25,
   "metadata": {},
   "outputs": [
    {
     "data": {
      "text/plain": [
       "[Row(ProductVariety=581, MarketingSpend=29, CustomerFootfall=1723, StoreSize=186, EmployeeEfficiency=84.9, StoreAge=1, CompetitorDistance=12, PromotionsCount=6, EconomicIndicator=108.3, StoreLocation='Los Angeles', StoreCategory='Electronics', MonthlySalesRevenue=284.9),\n",
       " Row(ProductVariety=382, MarketingSpend=31, CustomerFootfall=1218, StoreSize=427, EmployeeEfficiency=75.8, StoreAge=18, CompetitorDistance=11, PromotionsCount=6, EconomicIndicator=97.8, StoreLocation='Los Angeles', StoreCategory='Electronics', MonthlySalesRevenue=308.21),\n",
       " Row(ProductVariety=449, MarketingSpend=35, CustomerFootfall=2654, StoreSize=142, EmployeeEfficiency=92.8, StoreAge=14, CompetitorDistance=11, PromotionsCount=6, EconomicIndicator=101.1, StoreLocation='Los Angeles', StoreCategory='Grocery', MonthlySalesRevenue=292.11),\n",
       " Row(ProductVariety=666, MarketingSpend=9, CustomerFootfall=2591, StoreSize=159, EmployeeEfficiency=66.3, StoreAge=11, CompetitorDistance=11, PromotionsCount=4, EconomicIndicator=115.1, StoreLocation='Sacramento', StoreCategory='Clothing', MonthlySalesRevenue=279.61),\n",
       " Row(ProductVariety=657, MarketingSpend=35, CustomerFootfall=2151, StoreSize=275, EmployeeEfficiency=89.1, StoreAge=28, CompetitorDistance=12, PromotionsCount=7, EconomicIndicator=93.4, StoreLocation='Palo Alto', StoreCategory='Electronics', MonthlySalesRevenue=359.71),\n",
       " Row(ProductVariety=182, MarketingSpend=43, CustomerFootfall=1789, StoreSize=312, EmployeeEfficiency=88.8, StoreAge=13, CompetitorDistance=8, PromotionsCount=8, EconomicIndicator=70.4, StoreLocation='Palo Alto', StoreCategory='Electronics', MonthlySalesRevenue=258.21),\n",
       " Row(ProductVariety=341, MarketingSpend=29, CustomerFootfall=1868, StoreSize=400, EmployeeEfficiency=65.2, StoreAge=8, CompetitorDistance=12, PromotionsCount=6, EconomicIndicator=99.3, StoreLocation='San Francisco', StoreCategory='Electronics', MonthlySalesRevenue=240.3),\n",
       " Row(ProductVariety=500, MarketingSpend=32, CustomerFootfall=786, StoreSize=112, EmployeeEfficiency=54.6, StoreAge=3, CompetitorDistance=12, PromotionsCount=6, EconomicIndicator=96.4, StoreLocation='Palo Alto', StoreCategory='Clothing', MonthlySalesRevenue=250.28),\n",
       " Row(ProductVariety=656, MarketingSpend=30, CustomerFootfall=1352, StoreSize=108, EmployeeEfficiency=51.4, StoreAge=16, CompetitorDistance=15, PromotionsCount=6, EconomicIndicator=82.5, StoreLocation='Palo Alto', StoreCategory='Electronics', MonthlySalesRevenue=249.41),\n",
       " Row(ProductVariety=419, MarketingSpend=48, CustomerFootfall=1949, StoreSize=90, EmployeeEfficiency=93.1, StoreAge=16, CompetitorDistance=5, PromotionsCount=8, EconomicIndicator=110.3, StoreLocation='Palo Alto', StoreCategory='Electronics', MonthlySalesRevenue=203.93)]"
      ]
     },
     "execution_count": 25,
     "metadata": {},
     "output_type": "execute_result"
    }
   ],
   "source": [
    "df.take(10)"
   ]
  },
  {
   "cell_type": "code",
   "execution_count": 26,
   "metadata": {},
   "outputs": [
    {
     "name": "stdout",
     "output_type": "stream",
     "text": [
      "+-------------+\n",
      "|StoreCategory|\n",
      "+-------------+\n",
      "|      Grocery|\n",
      "|  Electronics|\n",
      "|     Clothing|\n",
      "+-------------+\n",
      "\n"
     ]
    }
   ],
   "source": [
    "df.select('StoreCategory').distinct().show()"
   ]
  },
  {
   "cell_type": "code",
   "execution_count": 27,
   "metadata": {},
   "outputs": [
    {
     "name": "stdout",
     "output_type": "stream",
     "text": [
      "+--------------+--------------+----------------+\n",
      "|ProductVariety|MarketingSpend|CustomerFootfall|\n",
      "+--------------+--------------+----------------+\n",
      "|           581|            29|            1723|\n",
      "|           382|            31|            1218|\n",
      "|           449|            35|            2654|\n",
      "|           666|             9|            2591|\n",
      "|           657|            35|            2151|\n",
      "|           182|            43|            1789|\n",
      "|           341|            29|            1868|\n",
      "|           500|            32|             786|\n",
      "|           656|            30|            1352|\n",
      "|           419|            48|            1949|\n",
      "|           851|            10|            1501|\n",
      "|           458|            26|            1673|\n",
      "|           432|            18|            1901|\n",
      "|           555|            40|            2528|\n",
      "|           587|            37|            1797|\n",
      "|           637|            46|            1345|\n",
      "|           510|            17|            1556|\n",
      "|           586|            41|            2249|\n",
      "|           834|            44|            1403|\n",
      "|           353|            16|            1624|\n",
      "+--------------+--------------+----------------+\n",
      "only showing top 20 rows\n",
      "\n"
     ]
    }
   ],
   "source": [
    "df.select('ProductVariety', 'MarketingSpend' , 'CustomerFootfall').show()"
   ]
  },
  {
   "cell_type": "code",
   "execution_count": 28,
   "metadata": {},
   "outputs": [],
   "source": [
    "import time "
   ]
  },
  {
   "cell_type": "markdown",
   "metadata": {},
   "source": [
    "Đổi tên cột dùng lambda, có thể dùng withColumnRenamed để thay thế"
   ]
  },
  {
   "cell_type": "code",
   "execution_count": 31,
   "metadata": {},
   "outputs": [
    {
     "name": "stdout",
     "output_type": "stream",
     "text": [
      "--- 0.0009987354278564453 seconds ---\n"
     ]
    }
   ],
   "source": [
    "start_time = time.time()\n",
    "\n",
    "mapDic = { 'Grocery' : 'Tạp hóa', 'Electronics' : 'Đồ điện', 'Clothing' : 'Quần áo'}\n",
    "\n",
    "data = df.rdd.map(lambda x: x.asDict()).map(\n",
    "    lambda row: {**row, 'StoreCategory': mapDic.get(row['StoreCategory'], row['StoreCategory'])}\n",
    ")\n",
    "\n",
    "print(\"--- %s seconds ---\" % (time.time() - start_time))"
   ]
  },
  {
   "cell_type": "code",
   "execution_count": 33,
   "metadata": {},
   "outputs": [
    {
     "data": {
      "text/plain": [
       "[{'ProductVariety': 581,\n",
       "  'MarketingSpend': 29,\n",
       "  'CustomerFootfall': 1723,\n",
       "  'StoreSize': 186,\n",
       "  'EmployeeEfficiency': 84.9,\n",
       "  'StoreAge': 1,\n",
       "  'CompetitorDistance': 12,\n",
       "  'PromotionsCount': 6,\n",
       "  'EconomicIndicator': 108.3,\n",
       "  'StoreLocation': 'Los Angeles',\n",
       "  'StoreCategory': 'Đồ điện',\n",
       "  'MonthlySalesRevenue': 284.9},\n",
       " {'ProductVariety': 382,\n",
       "  'MarketingSpend': 31,\n",
       "  'CustomerFootfall': 1218,\n",
       "  'StoreSize': 427,\n",
       "  'EmployeeEfficiency': 75.8,\n",
       "  'StoreAge': 18,\n",
       "  'CompetitorDistance': 11,\n",
       "  'PromotionsCount': 6,\n",
       "  'EconomicIndicator': 97.8,\n",
       "  'StoreLocation': 'Los Angeles',\n",
       "  'StoreCategory': 'Đồ điện',\n",
       "  'MonthlySalesRevenue': 308.21},\n",
       " {'ProductVariety': 449,\n",
       "  'MarketingSpend': 35,\n",
       "  'CustomerFootfall': 2654,\n",
       "  'StoreSize': 142,\n",
       "  'EmployeeEfficiency': 92.8,\n",
       "  'StoreAge': 14,\n",
       "  'CompetitorDistance': 11,\n",
       "  'PromotionsCount': 6,\n",
       "  'EconomicIndicator': 101.1,\n",
       "  'StoreLocation': 'Los Angeles',\n",
       "  'StoreCategory': 'Tạp hóa',\n",
       "  'MonthlySalesRevenue': 292.11},\n",
       " {'ProductVariety': 666,\n",
       "  'MarketingSpend': 9,\n",
       "  'CustomerFootfall': 2591,\n",
       "  'StoreSize': 159,\n",
       "  'EmployeeEfficiency': 66.3,\n",
       "  'StoreAge': 11,\n",
       "  'CompetitorDistance': 11,\n",
       "  'PromotionsCount': 4,\n",
       "  'EconomicIndicator': 115.1,\n",
       "  'StoreLocation': 'Sacramento',\n",
       "  'StoreCategory': 'Quần áo',\n",
       "  'MonthlySalesRevenue': 279.61},\n",
       " {'ProductVariety': 657,\n",
       "  'MarketingSpend': 35,\n",
       "  'CustomerFootfall': 2151,\n",
       "  'StoreSize': 275,\n",
       "  'EmployeeEfficiency': 89.1,\n",
       "  'StoreAge': 28,\n",
       "  'CompetitorDistance': 12,\n",
       "  'PromotionsCount': 7,\n",
       "  'EconomicIndicator': 93.4,\n",
       "  'StoreLocation': 'Palo Alto',\n",
       "  'StoreCategory': 'Đồ điện',\n",
       "  'MonthlySalesRevenue': 359.71},\n",
       " {'ProductVariety': 182,\n",
       "  'MarketingSpend': 43,\n",
       "  'CustomerFootfall': 1789,\n",
       "  'StoreSize': 312,\n",
       "  'EmployeeEfficiency': 88.8,\n",
       "  'StoreAge': 13,\n",
       "  'CompetitorDistance': 8,\n",
       "  'PromotionsCount': 8,\n",
       "  'EconomicIndicator': 70.4,\n",
       "  'StoreLocation': 'Palo Alto',\n",
       "  'StoreCategory': 'Đồ điện',\n",
       "  'MonthlySalesRevenue': 258.21},\n",
       " {'ProductVariety': 341,\n",
       "  'MarketingSpend': 29,\n",
       "  'CustomerFootfall': 1868,\n",
       "  'StoreSize': 400,\n",
       "  'EmployeeEfficiency': 65.2,\n",
       "  'StoreAge': 8,\n",
       "  'CompetitorDistance': 12,\n",
       "  'PromotionsCount': 6,\n",
       "  'EconomicIndicator': 99.3,\n",
       "  'StoreLocation': 'San Francisco',\n",
       "  'StoreCategory': 'Đồ điện',\n",
       "  'MonthlySalesRevenue': 240.3},\n",
       " {'ProductVariety': 500,\n",
       "  'MarketingSpend': 32,\n",
       "  'CustomerFootfall': 786,\n",
       "  'StoreSize': 112,\n",
       "  'EmployeeEfficiency': 54.6,\n",
       "  'StoreAge': 3,\n",
       "  'CompetitorDistance': 12,\n",
       "  'PromotionsCount': 6,\n",
       "  'EconomicIndicator': 96.4,\n",
       "  'StoreLocation': 'Palo Alto',\n",
       "  'StoreCategory': 'Quần áo',\n",
       "  'MonthlySalesRevenue': 250.28},\n",
       " {'ProductVariety': 656,\n",
       "  'MarketingSpend': 30,\n",
       "  'CustomerFootfall': 1352,\n",
       "  'StoreSize': 108,\n",
       "  'EmployeeEfficiency': 51.4,\n",
       "  'StoreAge': 16,\n",
       "  'CompetitorDistance': 15,\n",
       "  'PromotionsCount': 6,\n",
       "  'EconomicIndicator': 82.5,\n",
       "  'StoreLocation': 'Palo Alto',\n",
       "  'StoreCategory': 'Đồ điện',\n",
       "  'MonthlySalesRevenue': 249.41},\n",
       " {'ProductVariety': 419,\n",
       "  'MarketingSpend': 48,\n",
       "  'CustomerFootfall': 1949,\n",
       "  'StoreSize': 90,\n",
       "  'EmployeeEfficiency': 93.1,\n",
       "  'StoreAge': 16,\n",
       "  'CompetitorDistance': 5,\n",
       "  'PromotionsCount': 8,\n",
       "  'EconomicIndicator': 110.3,\n",
       "  'StoreLocation': 'Palo Alto',\n",
       "  'StoreCategory': 'Đồ điện',\n",
       "  'MonthlySalesRevenue': 203.93}]"
      ]
     },
     "execution_count": 33,
     "metadata": {},
     "output_type": "execute_result"
    }
   ],
   "source": [
    "data.take(10)"
   ]
  },
  {
   "cell_type": "code",
   "execution_count": 34,
   "metadata": {},
   "outputs": [],
   "source": [
    "spark.stop()"
   ]
  }
 ],
 "metadata": {
  "kernelspec": {
   "display_name": "Python 3",
   "language": "python",
   "name": "python3"
  },
  "language_info": {
   "codemirror_mode": {
    "name": "ipython",
    "version": 3
   },
   "file_extension": ".py",
   "mimetype": "text/x-python",
   "name": "python",
   "nbconvert_exporter": "python",
   "pygments_lexer": "ipython3",
   "version": "3.10.0"
  }
 },
 "nbformat": 4,
 "nbformat_minor": 2
}
